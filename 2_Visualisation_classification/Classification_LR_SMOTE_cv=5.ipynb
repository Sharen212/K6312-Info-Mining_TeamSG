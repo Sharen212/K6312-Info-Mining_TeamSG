{
 "cells": [
  {
   "cell_type": "code",
   "execution_count": 1,
   "metadata": {},
   "outputs": [
    {
     "name": "stderr",
     "output_type": "stream",
     "text": [
      "C:\\ProgramData\\Anaconda3\\lib\\site-packages\\sklearn\\utils\\deprecation.py:143: FutureWarning: The sklearn.linear_model.logistic module is  deprecated in version 0.22 and will be removed in version 0.24. The corresponding classes / functions should instead be imported from sklearn.linear_model. Anything that cannot be imported from sklearn.linear_model is now part of the private API.\n",
      "  warnings.warn(message, FutureWarning)\n"
     ]
    }
   ],
   "source": [
    "### Import the LogisticRegression and other necessary Classes\n",
    "\n",
    "import numpy as np\n",
    "import pandas as pd\n",
    "from sklearn.feature_extraction.text import TfidfVectorizer\n",
    "from sklearn.linear_model.logistic import LogisticRegression\n",
    "from sklearn.model_selection import train_test_split, cross_val_score, cross_val_predict\n",
    "from sklearn.metrics import classification_report, accuracy_score, precision_score, recall_score,f1_score"
   ]
  },
  {
   "cell_type": "code",
   "execution_count": 2,
   "metadata": {},
   "outputs": [
    {
     "name": "stdout",
     "output_type": "stream",
     "text": [
      "      Unnamed: 0     type                                    content_cleaned  \\\n",
      "0              1  article  speaker robin vos r rochester senate majority ...   \n",
      "1             14  article                                       page looking   \n",
      "2             15  article  contrary narrative pushed mainstream covid 19 ...   \n",
      "3             24  article  programming alert exclusive documentary origin...   \n",
      "4             30  article  buffalo ny wivbmayor byron brown handing mask ...   \n",
      "...          ...      ...                                                ...   \n",
      "1742        1573  article  rush transcript week george stephanopoulos air...   \n",
      "1743        1576  article  unprecedented moment american history need unp...   \n",
      "1744        1578  article  gov greg abbott tuesday issued amount statewid...   \n",
      "1745        1586  article  pulled trajectory chart work new version added...   \n",
      "1746        1588  article  fox business lou dobbs relentlessly grilled tr...   \n",
      "\n",
      "      label  \n",
      "0         1  \n",
      "1         1  \n",
      "2         1  \n",
      "3         1  \n",
      "4         1  \n",
      "...     ...  \n",
      "1742      0  \n",
      "1743      0  \n",
      "1744      0  \n",
      "1745      0  \n",
      "1746      0  \n",
      "\n",
      "[1747 rows x 4 columns]\n"
     ]
    }
   ],
   "source": [
    "df = pd.read_csv('all.csv')\n",
    "print(df)"
   ]
  },
  {
   "cell_type": "code",
   "execution_count": 3,
   "metadata": {},
   "outputs": [
    {
     "data": {
      "text/plain": [
       "Text(0.5, 1.0, 'Number of Fake vs Real News before Oversampling')"
      ]
     },
     "execution_count": 3,
     "metadata": {},
     "output_type": "execute_result"
    },
    {
     "data": {
      "image/png": "[encoded data removed]",
      "text/plain": [
       "<Figure size 432x288 with 1 Axes>"
      ]
     },
     "metadata": {
      "needs_background": "light"
     },
     "output_type": "display_data"
    }
   ],
   "source": [
    "#Visualization before oversampling\n",
    "import matplotlib.pyplot as plt\n",
    "ax = df['label'].value_counts().plot(kind='bar')\n",
    "plt.title('Number of Fake vs Real News before Oversampling',fontsize= 16)"
   ]
  },
  {
   "cell_type": "code",
   "execution_count": 4,
   "metadata": {},
   "outputs": [
    {
     "name": "stdout",
     "output_type": "stream",
     "text": [
      "0       speaker robin vos r rochester senate majority ...\n",
      "1                                            page looking\n",
      "2       contrary narrative pushed mainstream covid 19 ...\n",
      "3       programming alert exclusive documentary origin...\n",
      "4       buffalo ny wivbmayor byron brown handing mask ...\n",
      "                              ...                        \n",
      "1742    rush transcript week george stephanopoulos air...\n",
      "1743    unprecedented moment american history need unp...\n",
      "1744    gov greg abbott tuesday issued amount statewid...\n",
      "1745    pulled trajectory chart work new version added...\n",
      "1746    fox business lou dobbs relentlessly grilled tr...\n",
      "Name: content_cleaned, Length: 1747, dtype: object 0       1\n",
      "1       1\n",
      "2       1\n",
      "3       1\n",
      "4       1\n",
      "       ..\n",
      "1742    0\n",
      "1743    0\n",
      "1744    0\n",
      "1745    0\n",
      "1746    0\n",
      "Name: label, Length: 1747, dtype: int64\n"
     ]
    }
   ],
   "source": [
    "X = df['content_cleaned']\n",
    "y = df['label']\n",
    "print(X,y)"
   ]
  },
  {
   "cell_type": "code",
   "execution_count": 5,
   "metadata": {},
   "outputs": [],
   "source": [
    "### Create TfidfVectorizer. Fit and transform.\n",
    "vectorizer = TfidfVectorizer(ngram_range=(3, 3))\n",
    "\n",
    "# learn the 'vocabulary' of X & transform into a 'document-term matrix'\n",
    "X_dtm = vectorizer.fit_transform(X)"
   ]
  },
  {
   "cell_type": "code",
   "execution_count": 6,
   "metadata": {},
   "outputs": [],
   "source": [
    "# instantiate a logistic regression model\n",
    "classifier = LogisticRegression()"
   ]
  },
  {
   "cell_type": "markdown",
   "metadata": {},
   "source": [
    "### Model performance with cross validation (cv=5); No application of SMOTE "
   ]
  },
  {
   "cell_type": "code",
   "execution_count": 7,
   "metadata": {
    "scrolled": true
   },
   "outputs": [
    {
     "name": "stdout",
     "output_type": "stream",
     "text": [
      "Accuracy 0.8271567744576341 [0.8        0.81142857 0.84813754 0.84813754 0.82808023]\n"
     ]
    },
    {
     "name": "stderr",
     "output_type": "stream",
     "text": [
      "C:\\ProgramData\\Anaconda3\\lib\\site-packages\\sklearn\\metrics\\_classification.py:1221: UndefinedMetricWarning: Precision is ill-defined and being set to 0.0 due to no predicted samples. Use `zero_division` parameter to control this behavior.\n",
      "  _warn_prf(average, modifier, msg_start, len(result))\n"
     ]
    },
    {
     "name": "stdout",
     "output_type": "stream",
     "text": [
      "Precision 0.8 [0. 1. 1. 1. 1.]\n",
      "Recall 0.13714285714285715 [0.         0.05714286 0.24285714 0.24285714 0.14285714]\n",
      "F1 0.22794346070208138 [0.         0.10810811 0.3908046  0.3908046  0.25      ]\n"
     ]
    }
   ],
   "source": [
    "#Cross Validation - will perform prediction and evaluation\n",
    "#to obtain average scoring from partitioned training and testing datasets\n",
    "#using only the fitted training data\n",
    "\n",
    "scores = cross_val_score(classifier, X_dtm, y, cv=5)\n",
    "print('Accuracy', np.mean(scores), scores)\n",
    "precisions = cross_val_score(classifier, X_dtm, y, cv=5, scoring='precision')\n",
    "print('Precision', np.mean(precisions), precisions)\n",
    "recalls = cross_val_score(classifier, X_dtm, y, cv=5, scoring='recall')\n",
    "print('Recall', np.mean(recalls), recalls)\n",
    "f1s = cross_val_score(classifier, X_dtm, y, cv=5, scoring='f1')\n",
    "print('F1', np.mean(f1s), f1s)"
   ]
  },
  {
   "cell_type": "markdown",
   "metadata": {},
   "source": [
    "### Model performance with cross validation (cv=5); Application of SMOTE to handle imbalanced dataset"
   ]
  },
  {
   "cell_type": "code",
   "execution_count": 8,
   "metadata": {},
   "outputs": [],
   "source": [
    "# import SMOTE module from imblearn library \n",
    "\n",
    "from imblearn.over_sampling import SMOTE \n",
    "sm = SMOTE(random_state = 2) \n",
    "X_dtm_res, y_res = sm.fit_sample(X_dtm, y) \n"
   ]
  },
  {
   "cell_type": "code",
   "execution_count": 9,
   "metadata": {},
   "outputs": [
    {
     "name": "stdout",
     "output_type": "stream",
     "text": [
      "After OverSampling, the shape of train_X: (2794, 57044)\n",
      "After OverSampling, the shape of train_y: (2794,) \n",
      "\n",
      "After OverSampling, counts of label '1': 1397\n",
      "After OverSampling, counts of label '0': 1397\n"
     ]
    }
   ],
   "source": [
    "print('After OverSampling, the shape of train_X: {}'.format(X_dtm_res.shape)) \n",
    "print('After OverSampling, the shape of train_y: {} \\n'.format(y_res.shape)) \n",
    "  \n",
    "print(\"After OverSampling, counts of label '1': {}\".format(sum(y_res == 1))) \n",
    "print(\"After OverSampling, counts of label '0': {}\".format(sum(y_res == 0))) "
   ]
  },
  {
   "cell_type": "code",
   "execution_count": 10,
   "metadata": {},
   "outputs": [
    {
     "name": "stdout",
     "output_type": "stream",
     "text": [
      "Counter({1: 1397, 0: 1397})\n"
     ]
    }
   ],
   "source": [
    "import collections\n",
    "from collections import Counter\n",
    "c = Counter(y_res)\n",
    "print(c)"
   ]
  },
  {
   "cell_type": "code",
   "execution_count": 11,
   "metadata": {},
   "outputs": [
    {
     "data": {
      "text/html": [
       "<div>\n",
       "<style scoped>\n",
       "    .dataframe tbody tr th:only-of-type {\n",
       "        vertical-align: middle;\n",
       "    }\n",
       "\n",
       "    .dataframe tbody tr th {\n",
       "        vertical-align: top;\n",
       "    }\n",
       "\n",
       "    .dataframe thead th {\n",
       "        text-align: right;\n",
       "    }\n",
       "</style>\n",
       "<table border=\"1\" class=\"dataframe\">\n",
       "  <thead>\n",
       "    <tr style=\"text-align: right;\">\n",
       "      <th></th>\n",
       "      <th>label</th>\n",
       "      <th>count</th>\n",
       "    </tr>\n",
       "  </thead>\n",
       "  <tbody>\n",
       "    <tr>\n",
       "      <th>0</th>\n",
       "      <td>1</td>\n",
       "      <td>1397</td>\n",
       "    </tr>\n",
       "    <tr>\n",
       "      <th>1</th>\n",
       "      <td>0</td>\n",
       "      <td>1397</td>\n",
       "    </tr>\n",
       "  </tbody>\n",
       "</table>\n",
       "</div>"
      ],
      "text/plain": [
       "   label  count\n",
       "0      1   1397\n",
       "1      0   1397"
      ]
     },
     "execution_count": 11,
     "metadata": {},
     "output_type": "execute_result"
    }
   ],
   "source": [
    "df_oversampling = pd.DataFrame.from_records(list(dict(c).items()), columns=['label','count'])\n",
    "df_oversampling"
   ]
  },
  {
   "cell_type": "code",
   "execution_count": 12,
   "metadata": {},
   "outputs": [
    {
     "data": {
      "image/png": "[encoded data removed]",
      "text/plain": [
       "<Figure size 432x288 with 1 Axes>"
      ]
     },
     "metadata": {
      "needs_background": "light"
     },
     "output_type": "display_data"
    }
   ],
   "source": [
    "#visualization after oversampling\n",
    "ax = df_oversampling.plot.bar(x='label', y='count')\n",
    "plt.title(\"Number of Fake vs Real News after Oversampling\",fontsize= 16)\n",
    "ax.get_legend().remove()"
   ]
  },
  {
   "cell_type": "code",
   "execution_count": 13,
   "metadata": {},
   "outputs": [],
   "source": [
    "# instantiate a logistic regression model\n",
    "classifier = LogisticRegression()\n"
   ]
  },
  {
   "cell_type": "code",
   "execution_count": 14,
   "metadata": {},
   "outputs": [
    {
     "name": "stdout",
     "output_type": "stream",
     "text": [
      "Accuracy 0.8761780188636903 [0.71198569 0.8783542  0.92307692 0.94991055 0.91756272]\n",
      "Precision 0.9991489361702127 [1.         1.         1.         1.         0.99574468]\n",
      "Recall 0.7532744495647722 [0.425      0.75714286 0.84587814 0.89964158 0.83870968]\n",
      "F1 0.8464920696443834 [0.59649123 0.86178862 0.91650485 0.94716981 0.91050584]\n"
     ]
    }
   ],
   "source": [
    "scores = cross_val_score(classifier, X_dtm_res, y_res, cv=5)\n",
    "print('Accuracy', np.mean(scores), scores)\n",
    "precisions = cross_val_score(classifier, X_dtm_res, y_res, scoring='precision')\n",
    "print('Precision', np.mean(precisions), precisions)\n",
    "recalls = cross_val_score(classifier, X_dtm_res, y_res, cv=5, scoring='recall')\n",
    "print('Recall', np.mean(recalls), recalls)\n",
    "f1s = cross_val_score(classifier, X_dtm_res, y_res, cv=5, scoring='f1')\n",
    "print('F1', np.mean(f1s), f1s)"
   ]
  },
  {
   "cell_type": "code",
   "execution_count": null,
   "metadata": {},
   "outputs": [],
   "source": []
  }
 ],
 "metadata": {
  "kernelspec": {
   "display_name": "Python 3",
   "language": "python",
   "name": "python3"
  },
  "language_info": {
   "codemirror_mode": {
    "name": "ipython",
    "version": 3
   },
   "file_extension": ".py",
   "mimetype": "text/x-python",
   "name": "python",
   "nbconvert_exporter": "python",
   "pygments_lexer": "ipython3",
   "version": "3.8.3"
  }
 },
 "nbformat": 4,
 "nbformat_minor": 4
}
