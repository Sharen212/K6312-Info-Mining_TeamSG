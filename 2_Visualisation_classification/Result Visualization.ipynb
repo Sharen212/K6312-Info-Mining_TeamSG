{
 "cells": [
  {
   "cell_type": "code",
   "execution_count": 79,
   "metadata": {},
   "outputs": [],
   "source": [
    "# importing the required library\n",
    "import seaborn as sns\n",
    "import matplotlib.pyplot as plt\n",
    "import pandas as pd\n",
    "\n",
    "# from seaborn libraray\n",
    "df = pd.read_csv('results_S_4.csv')"
   ]
  },
  {
   "cell_type": "code",
   "execution_count": 80,
   "metadata": {},
   "outputs": [
    {
     "data": {
      "text/html": [
       "<div>\n",
       "<style scoped>\n",
       "    .dataframe tbody tr th:only-of-type {\n",
       "        vertical-align: middle;\n",
       "    }\n",
       "\n",
       "    .dataframe tbody tr th {\n",
       "        vertical-align: top;\n",
       "    }\n",
       "\n",
       "    .dataframe thead th {\n",
       "        text-align: right;\n",
       "    }\n",
       "</style>\n",
       "<table border=\"1\" class=\"dataframe\">\n",
       "  <thead>\n",
       "    <tr style=\"text-align: right;\">\n",
       "      <th></th>\n",
       "      <th>N-gram</th>\n",
       "      <th>Validation</th>\n",
       "      <th>FE</th>\n",
       "      <th>SMOTE?</th>\n",
       "      <th>F1</th>\n",
       "    </tr>\n",
       "  </thead>\n",
       "  <tbody>\n",
       "    <tr>\n",
       "      <th>0</th>\n",
       "      <td>3</td>\n",
       "      <td>No Cross-Validation</td>\n",
       "      <td>TF-IDF</td>\n",
       "      <td>No SMOTE</td>\n",
       "      <td>0.29</td>\n",
       "    </tr>\n",
       "    <tr>\n",
       "      <th>1</th>\n",
       "      <td>3</td>\n",
       "      <td>No Cross-Validation</td>\n",
       "      <td>TF-IDF</td>\n",
       "      <td>SMOTE</td>\n",
       "      <td>0.58</td>\n",
       "    </tr>\n",
       "    <tr>\n",
       "      <th>2</th>\n",
       "      <td>3</td>\n",
       "      <td>No Cross-Validation</td>\n",
       "      <td>TF</td>\n",
       "      <td>No SMOTE</td>\n",
       "      <td>0.50</td>\n",
       "    </tr>\n",
       "    <tr>\n",
       "      <th>3</th>\n",
       "      <td>3</td>\n",
       "      <td>No Cross-Validation</td>\n",
       "      <td>TF</td>\n",
       "      <td>SMOTE</td>\n",
       "      <td>0.49</td>\n",
       "    </tr>\n",
       "    <tr>\n",
       "      <th>4</th>\n",
       "      <td>3</td>\n",
       "      <td>Cross-Validation</td>\n",
       "      <td>TF-IDF</td>\n",
       "      <td>No SMOTE</td>\n",
       "      <td>0.18</td>\n",
       "    </tr>\n",
       "    <tr>\n",
       "      <th>5</th>\n",
       "      <td>3</td>\n",
       "      <td>Cross-Validation</td>\n",
       "      <td>TF-IDF</td>\n",
       "      <td>SMOTE</td>\n",
       "      <td>0.72</td>\n",
       "    </tr>\n",
       "    <tr>\n",
       "      <th>6</th>\n",
       "      <td>3</td>\n",
       "      <td>Cross-Validation</td>\n",
       "      <td>TF</td>\n",
       "      <td>No SMOTE</td>\n",
       "      <td>0.43</td>\n",
       "    </tr>\n",
       "    <tr>\n",
       "      <th>7</th>\n",
       "      <td>3</td>\n",
       "      <td>Cross-Validation</td>\n",
       "      <td>TF</td>\n",
       "      <td>SMOTE</td>\n",
       "      <td>0.74</td>\n",
       "    </tr>\n",
       "  </tbody>\n",
       "</table>\n",
       "</div>"
      ],
      "text/plain": [
       "   N-gram           Validation      FE    SMOTE?    F1\n",
       "0       3  No Cross-Validation  TF-IDF  No SMOTE  0.29\n",
       "1       3  No Cross-Validation  TF-IDF     SMOTE  0.58\n",
       "2       3  No Cross-Validation      TF  No SMOTE  0.50\n",
       "3       3  No Cross-Validation      TF     SMOTE  0.49\n",
       "4       3     Cross-Validation  TF-IDF  No SMOTE  0.18\n",
       "5       3     Cross-Validation  TF-IDF     SMOTE  0.72\n",
       "6       3     Cross-Validation      TF  No SMOTE  0.43\n",
       "7       3     Cross-Validation      TF     SMOTE  0.74"
      ]
     },
     "execution_count": 80,
     "metadata": {},
     "output_type": "execute_result"
    }
   ],
   "source": [
    "df"
   ]
  },
  {
   "cell_type": "code",
   "execution_count": 81,
   "metadata": {},
   "outputs": [
    {
     "data": {
      "image/png": "[encoded data removed]",
      "text/plain": [
       "<Figure size 692.3x432 with 2 Axes>"
      ]
     },
     "metadata": {
      "needs_background": "light"
     },
     "output_type": "display_data"
    }
   ],
   "source": [
    "g = sns.catplot(x=\"FE\", y=\"F1\",\n",
    "                hue=\"SMOTE?\", col=\"Validation\",\n",
    "                data=df, kind=\"bar\",\n",
    "                height=6, aspect=.7);\n",
    "plt.subplots_adjust(top=0.9)\n",
    "#g.fig.suptitle('Logistic Regression Model Performance (4-gram)')\n",
    "g.fig.suptitle('Linear SVM Model Performance (4-gram)')\n",
    "\n",
    "for ax in g.axes.ravel():\n",
    "    for p in ax.patches:\n",
    "        ax.annotate(format(p.get_height(), '.2f'), (p.get_x() + p.get_width() / 2., p.get_height()), ha = 'center', va = 'center', xytext = (0, 10), textcoords = 'offset points')"
   ]
  },
  {
   "cell_type": "code",
   "execution_count": null,
   "metadata": {},
   "outputs": [],
   "source": []
  }
 ],
 "metadata": {
  "kernelspec": {
   "display_name": "Python 3",
   "language": "python",
   "name": "python3"
  },
  "language_info": {
   "codemirror_mode": {
    "name": "ipython",
    "version": 3
   },
   "file_extension": ".py",
   "mimetype": "text/x-python",
   "name": "python",
   "nbconvert_exporter": "python",
   "pygments_lexer": "ipython3",
   "version": "3.8.3"
  }
 },
 "nbformat": 4,
 "nbformat_minor": 4
}
